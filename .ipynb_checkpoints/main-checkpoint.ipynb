{
 "cells": [
  {
   "cell_type": "code",
   "execution_count": 4,
   "id": "fa34a808",
   "metadata": {},
   "outputs": [],
   "source": [
    "import os # dùng để truy cập đến thư mục của ổ đĩa, hoặc các việc liên quan đến hệ thống máy tính\n",
    "\n",
    "import librosa #xử lý audio (mở, lưu, convert, preprocessing audio data)\n",
    "\n",
    "from tqdm import tqdm #báo tiến độ xử\n",
    "import numpy as np #xử lý data, kiểu dữ liệu,...\n",
    "\n",
    "from sklearn.model_selection import train_test_split # chia data thành 2 tập dữ liệu là train vs test\n",
    "\n",
    "# Thư viện dùng để tạo model\n",
    "from tensorflow.keras.layers import Dense, Dropout, Flatten, Conv1D, Input, MaxPooling1D, GRU, TimeDistributed\n",
    "from tensorflow.keras.models import Model\n",
    "from tensorflow.keras.callbacks import EarlyStopping, ModelCheckpoint\n",
    "from tensorflow.keras import backend as K\n",
    "from tensorflow.keras.layers import Bidirectional, BatchNormalization, TimeDistributed"
   ]
  },
  {
   "cell_type": "code",
   "execution_count": 5,
   "id": "63972198",
   "metadata": {},
   "outputs": [],
   "source": [
    "label_map = {\"Excel\": 0, \"Word\": 1, \"Google\":2, \"Note\": 3, \"Power point\": 4}"
   ]
  },
  {
   "cell_type": "code",
   "execution_count": 6,
   "id": "022e9e6c",
   "metadata": {
    "scrolled": true
   },
   "outputs": [
    {
     "name": "stderr",
     "output_type": "stream",
     "text": [
      "100%|████████████████████████████████████████████████████████████████████████████████████████████████████████████████████████████████████████████████| 100/100 [00:02<00:00, 39.90it/s]\n",
      "100%|████████████████████████████████████████████████████████████████████████████████████████████████████████████████████████████████████████████████| 100/100 [00:02<00:00, 45.40it/s]\n",
      "100%|████████████████████████████████████████████████████████████████████████████████████████████████████████████████████████████████████████████████| 100/100 [00:02<00:00, 47.10it/s]\n",
      "100%|████████████████████████████████████████████████████████████████████████████████████████████████████████████████████████████████████████████████| 100/100 [00:02<00:00, 44.28it/s]\n",
      "100%|████████████████████████████████████████████████████████████████████████████████████████████████████████████████████████████████████████████████| 100/100 [00:02<00:00, 34.98it/s]\n"
     ]
    }
   ],
   "source": [
    "all_wave = []\n",
    "all_label = []\n",
    "max_wave = 0\n",
    "for type_ in label_map.keys():\n",
    "    path = \"Data\\\\\" + type_\n",
    "    for name_file in tqdm(os.listdir(path)):\n",
    "        path_file = path + \"\\\\\" + name_file\n",
    "        samples, sample_rate = librosa.load(path_file, sr = 8000)\n",
    "        if len(samples) > max_wave:\n",
    "            max_wave = len(samples)\n",
    "        all_wave.append(samples)\n",
    "        all_label.append(label_map[type_])"
   ]
  },
  {
   "cell_type": "code",
   "execution_count": null,
   "id": "718d2314",
   "metadata": {},
   "outputs": [],
   "source": []
  },
  {
   "cell_type": "code",
   "execution_count": 7,
   "id": "180e74e9",
   "metadata": {},
   "outputs": [
    {
     "data": {
      "text/plain": [
       "25600"
      ]
     },
     "execution_count": 7,
     "metadata": {},
     "output_type": "execute_result"
    }
   ],
   "source": [
    "max_wave"
   ]
  },
  {
   "cell_type": "code",
   "execution_count": 8,
   "id": "5be045f3",
   "metadata": {},
   "outputs": [],
   "source": [
    "for i, w in enumerate(all_wave):\n",
    "    add_zero = max_wave - len(w)\n",
    "    if add_zero > 0:\n",
    "        all_wave[i] = np.array(list(w) + list(np.zeros(add_zero)), dtype=\"float32\")\n"
   ]
  },
  {
   "cell_type": "code",
   "execution_count": 9,
   "id": "dda56d72",
   "metadata": {},
   "outputs": [],
   "source": [
    "all_wave = np.array(all_wave).reshape(-1,max_wave,1)"
   ]
  },
  {
   "cell_type": "code",
   "execution_count": 10,
   "id": "9f401891",
   "metadata": {},
   "outputs": [
    {
     "data": {
      "text/plain": [
       "(500, 25600, 1)"
      ]
     },
     "execution_count": 10,
     "metadata": {},
     "output_type": "execute_result"
    }
   ],
   "source": [
    "all_wave.shape"
   ]
  },
  {
   "cell_type": "code",
   "execution_count": null,
   "id": "beeaa469",
   "metadata": {},
   "outputs": [],
   "source": []
  },
  {
   "cell_type": "code",
   "execution_count": 11,
   "id": "e33212f4",
   "metadata": {},
   "outputs": [],
   "source": [
    "\n",
    "x_train, x_valid, y_train, y_valid = train_test_split(np.array(all_wave),\n",
    "                                                      np.array(all_label),\n",
    "                                                      stratify=np.array(all_label),\n",
    "                                                      test_size = 0.3,\n",
    "                                                      random_state=777,\n",
    "                                                      shuffle=True)"
   ]
  },
  {
   "cell_type": "code",
   "execution_count": 12,
   "id": "c09c50b9",
   "metadata": {},
   "outputs": [
    {
     "name": "stdout",
     "output_type": "stream",
     "text": [
      "Model: \"model\"\n",
      "_________________________________________________________________\n",
      " Layer (type)                Output Shape              Param #   \n",
      "=================================================================\n",
      " input_1 (InputLayer)        [(None, 25600, 1)]        0         \n",
      "                                                                 \n",
      " batch_normalization (BatchN  (None, 25600, 1)         4         \n",
      " ormalization)                                                   \n",
      "                                                                 \n",
      " conv1d (Conv1D)             (None, 25597, 4)          20        \n",
      "                                                                 \n",
      " max_pooling1d (MaxPooling1D  (None, 8532, 4)          0         \n",
      " )                                                               \n",
      "                                                                 \n",
      " dropout (Dropout)           (None, 8532, 4)           0         \n",
      "                                                                 \n",
      " bidirectional (Bidirectiona  (None, 8532, 8)          672       \n",
      " l)                                                              \n",
      "                                                                 \n",
      " time_distributed (TimeDistr  (None, 8532, 5)          45        \n",
      " ibuted)                                                         \n",
      "                                                                 \n",
      " flatten (Flatten)           (None, 42660)             0         \n",
      "                                                                 \n",
      " dense_1 (Dense)             (None, 32)                1365152   \n",
      "                                                                 \n",
      " dense_2 (Dense)             (None, 5)                 165       \n",
      "                                                                 \n",
      "=================================================================\n",
      "Total params: 1,366,058\n",
      "Trainable params: 1,366,056\n",
      "Non-trainable params: 2\n",
      "_________________________________________________________________\n"
     ]
    }
   ],
   "source": [
    "\n",
    "inputs = Input(shape=(max_wave, 1))\n",
    "x = BatchNormalization(axis=-1, momentum=0.99, epsilon=1e-3, center=True, scale=True)(inputs)\n",
    "\n",
    "#First Conv1D layer\n",
    "x = Conv1D(4,4, padding='valid', activation='tanh', strides=1)(x)\n",
    "x = MaxPooling1D(3)(x)\n",
    "x = Dropout(0.3)(x)\n",
    "\n",
    "# #Second Conv1D layer\n",
    "# x = Conv1D(16, 11, padding='valid', activation='relu', strides=1)(x)\n",
    "# x = MaxPooling1D(3)(x)\n",
    "# x = Dropout(0.3)(x)\n",
    "\n",
    "# #Third Conv1D layer\n",
    "# x = Conv1D(32, 9, padding='valid', activation='relu', strides=1)(x)\n",
    "# x = MaxPooling1D(3)(x)\n",
    "# x = Dropout(0.3)(x)\n",
    "\n",
    "# x = BatchNormalization(axis=-1, momentum=0.99, epsilon=1e-3, center=True, scale=True)(x)\n",
    "\n",
    "x = Bidirectional(GRU(8, return_sequences=True), merge_mode='sum')(x)\n",
    "# x = TimeDistributed(Dense(256, activation='relu'))(x)\n",
    "x = TimeDistributed(Dense(5, activation='relu'))(x)\n",
    "# x = Bidirectional(GRU(128, return_sequences=True), merge_mode='sum')(x)\n",
    "# x = Bidirectional(GRU(128, return_sequences=False), merge_mode='sum')(x)\n",
    "\n",
    "# x = BatchNormalization(axis=-1, momentum=0.99, epsilon=1e-3, center=True, scale=True)(x)\n",
    "\n",
    "#Flatten layer\n",
    "x = Flatten()(x)\n",
    "\n",
    "#Dense Layer 1\n",
    "x = Dense(32, activation='relu')(x)\n",
    "outputs = Dense(5, activation=\"softmax\")(x)\n",
    "\n",
    "model = Model(inputs, outputs)\n",
    "model.summary()"
   ]
  },
  {
   "cell_type": "code",
   "execution_count": 13,
   "id": "e0c10b1f",
   "metadata": {},
   "outputs": [],
   "source": [
    "model.compile(loss='sparse_categorical_crossentropy',optimizer='nadam',metrics=['accuracy'])"
   ]
  },
  {
   "cell_type": "code",
   "execution_count": 14,
   "id": "29767f08",
   "metadata": {},
   "outputs": [],
   "source": [
    "early_stop = EarlyStopping(monitor='val_accuracy', mode='max', \n",
    "                           verbose=1, patience=10, min_delta=0.0001)\n",
    "\n",
    "checkpoint = ModelCheckpoint('model//speech2text_model.hdf5', monitor='val_accuracy', \n",
    "                             verbose=1, save_best_only=True, mode='max')"
   ]
  },
  {
   "cell_type": "code",
   "execution_count": null,
   "id": "3ecc286d",
   "metadata": {},
   "outputs": [
    {
     "name": "stdout",
     "output_type": "stream",
     "text": [
      "Epoch 1/100\n",
      " 9/11 [=======================>......] - ETA: 6s - loss: 1.6969 - accuracy: 0.1979"
     ]
    }
   ],
   "source": [
    "hist = model.fit(\n",
    "    x=x_train, \n",
    "    y=y_train,\n",
    "    epochs=100, \n",
    "    callbacks=[early_stop, checkpoint], \n",
    "    batch_size=32, \n",
    "    verbose=1,\n",
    "    validation_data=(x_valid, y_valid)\n",
    ")"
   ]
  },
  {
   "cell_type": "code",
   "execution_count": null,
   "id": "b5491018",
   "metadata": {},
   "outputs": [],
   "source": []
  },
  {
   "cell_type": "code",
   "execution_count": null,
   "id": "b51c8f77",
   "metadata": {},
   "outputs": [],
   "source": []
  },
  {
   "cell_type": "code",
   "execution_count": null,
   "id": "f8c177fc",
   "metadata": {},
   "outputs": [],
   "source": []
  },
  {
   "cell_type": "code",
   "execution_count": null,
   "id": "61a67678",
   "metadata": {},
   "outputs": [],
   "source": []
  },
  {
   "cell_type": "code",
   "execution_count": null,
   "id": "b3cd1657",
   "metadata": {},
   "outputs": [],
   "source": []
  },
  {
   "cell_type": "code",
   "execution_count": null,
   "id": "931ceef2",
   "metadata": {},
   "outputs": [],
   "source": []
  },
  {
   "cell_type": "code",
   "execution_count": null,
   "id": "59e5e830",
   "metadata": {},
   "outputs": [],
   "source": [
    "# os.startfile(r'C:\\Program Files (x86)\\Notepad++\\notepad++.exe')\n",
    "    "
   ]
  },
  {
   "cell_type": "code",
   "execution_count": null,
   "id": "e430097c",
   "metadata": {},
   "outputs": [],
   "source": []
  }
 ],
 "metadata": {
  "kernelspec": {
   "display_name": "Python 3 (ipykernel)",
   "language": "python",
   "name": "python3"
  },
  "language_info": {
   "codemirror_mode": {
    "name": "ipython",
    "version": 3
   },
   "file_extension": ".py",
   "mimetype": "text/x-python",
   "name": "python",
   "nbconvert_exporter": "python",
   "pygments_lexer": "ipython3",
   "version": "3.10.8"
  }
 },
 "nbformat": 4,
 "nbformat_minor": 5
}
